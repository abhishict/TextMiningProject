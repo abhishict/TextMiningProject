{
  "nbformat": 4,
  "nbformat_minor": 0,
  "metadata": {
    "colab": {
      "provenance": []
    },
    "kernelspec": {
      "name": "ir",
      "display_name": "R"
    },
    "language_info": {
      "name": "R"
    }
  },
  "cells": [
    {
      "cell_type": "code",
      "source": [
        "!git clone https://github.com/abhishict/TextMiningProject.git"
      ],
      "metadata": {
        "id": "H0jEawxEb91k",
        "colab": {
          "base_uri": "https://localhost:8080/"
        },
        "outputId": "9666557e-da5d-4b26-fd38-287f6eae6e88"
      },
      "execution_count": 1,
      "outputs": [
        {
          "output_type": "stream",
          "name": "stdout",
          "text": [
            "fatal: destination path 'TextMiningProject' already exists and is not an empty directory.\n"
          ]
        }
      ]
    },
    {
      "cell_type": "code",
      "source": [
        "import pandas as pd\n",
        "from sklearn.feature_extraction.text import TfidfVectorizer\n",
        "from sklearn.decomposition import PCA\n",
        "from sklearn.cluster import KMeans\n",
        "from sklearn.metrics import silhouette_score, silhouette_samples\n",
        "import matplotlib.pyplot as plt\n",
        "import numpy as np\n",
        "import seaborn as sns\n",
        "\n",
        "df_comments = pd.read_csv('TextMiningProject/data/cleaned_dataset.csv')\n",
        "print(df_comments.shape)\n",
        "df_comments.head()"
      ],
      "metadata": {
        "id": "48_cr3UOr79T",
        "colab": {
          "base_uri": "https://localhost:8080/",
          "height": 223
        },
        "outputId": "49bba1fb-2e49-4c1e-e3b4-f2bfc66d3284"
      },
      "execution_count": 1,
      "outputs": [
        {
          "output_type": "stream",
          "name": "stdout",
          "text": [
            "(5184, 4)\n"
          ]
        },
        {
          "output_type": "execute_result",
          "data": {
            "text/plain": [
              "                   Label                                        Description  \\\n",
              "0  Environmental Concern  Brake pad dust can be more toxic than exhaust ...   \n",
              "1  Environmental Benefit  EVs and datacentres driving new global ‘age of...   \n",
              "2     Economic Challenge  EV drivers spend extra £85m on VAT when using ...   \n",
              "3     Economic Challenge  UK used electric vehicle sales hit record last...   \n",
              "4  Environmental Benefit  Promoting green growth does not make you an ‘e...   \n",
              "\n",
              "                                 Cleaned_Description  Article_Length  \n",
              "0    brake pad dust toxic exhaust emission study say               8  \n",
              "1  datacentres driving global age electricity say...               7  \n",
              "2        driver spend extra vat using public charger               7  \n",
              "3            uk used sale hit record last price fell               8  \n",
              "4       promoting green growth econutter way forward               6  "
            ],
            "text/html": [
              "\n",
              "  <div id=\"df-1792d2f0-1290-4283-b3dd-c498563d0e12\" class=\"colab-df-container\">\n",
              "    <div>\n",
              "<style scoped>\n",
              "    .dataframe tbody tr th:only-of-type {\n",
              "        vertical-align: middle;\n",
              "    }\n",
              "\n",
              "    .dataframe tbody tr th {\n",
              "        vertical-align: top;\n",
              "    }\n",
              "\n",
              "    .dataframe thead th {\n",
              "        text-align: right;\n",
              "    }\n",
              "</style>\n",
              "<table border=\"1\" class=\"dataframe\">\n",
              "  <thead>\n",
              "    <tr style=\"text-align: right;\">\n",
              "      <th></th>\n",
              "      <th>Label</th>\n",
              "      <th>Description</th>\n",
              "      <th>Cleaned_Description</th>\n",
              "      <th>Article_Length</th>\n",
              "    </tr>\n",
              "  </thead>\n",
              "  <tbody>\n",
              "    <tr>\n",
              "      <th>0</th>\n",
              "      <td>Environmental Concern</td>\n",
              "      <td>Brake pad dust can be more toxic than exhaust ...</td>\n",
              "      <td>brake pad dust toxic exhaust emission study say</td>\n",
              "      <td>8</td>\n",
              "    </tr>\n",
              "    <tr>\n",
              "      <th>1</th>\n",
              "      <td>Environmental Benefit</td>\n",
              "      <td>EVs and datacentres driving new global ‘age of...</td>\n",
              "      <td>datacentres driving global age electricity say...</td>\n",
              "      <td>7</td>\n",
              "    </tr>\n",
              "    <tr>\n",
              "      <th>2</th>\n",
              "      <td>Economic Challenge</td>\n",
              "      <td>EV drivers spend extra £85m on VAT when using ...</td>\n",
              "      <td>driver spend extra vat using public charger</td>\n",
              "      <td>7</td>\n",
              "    </tr>\n",
              "    <tr>\n",
              "      <th>3</th>\n",
              "      <td>Economic Challenge</td>\n",
              "      <td>UK used electric vehicle sales hit record last...</td>\n",
              "      <td>uk used sale hit record last price fell</td>\n",
              "      <td>8</td>\n",
              "    </tr>\n",
              "    <tr>\n",
              "      <th>4</th>\n",
              "      <td>Environmental Benefit</td>\n",
              "      <td>Promoting green growth does not make you an ‘e...</td>\n",
              "      <td>promoting green growth econutter way forward</td>\n",
              "      <td>6</td>\n",
              "    </tr>\n",
              "  </tbody>\n",
              "</table>\n",
              "</div>\n",
              "    <div class=\"colab-df-buttons\">\n",
              "\n",
              "  <div class=\"colab-df-container\">\n",
              "    <button class=\"colab-df-convert\" onclick=\"convertToInteractive('df-1792d2f0-1290-4283-b3dd-c498563d0e12')\"\n",
              "            title=\"Convert this dataframe to an interactive table.\"\n",
              "            style=\"display:none;\">\n",
              "\n",
              "  <svg xmlns=\"http://www.w3.org/2000/svg\" height=\"24px\" viewBox=\"0 -960 960 960\">\n",
              "    <path d=\"M120-120v-720h720v720H120Zm60-500h600v-160H180v160Zm220 220h160v-160H400v160Zm0 220h160v-160H400v160ZM180-400h160v-160H180v160Zm440 0h160v-160H620v160ZM180-180h160v-160H180v160Zm440 0h160v-160H620v160Z\"/>\n",
              "  </svg>\n",
              "    </button>\n",
              "\n",
              "  <style>\n",
              "    .colab-df-container {\n",
              "      display:flex;\n",
              "      gap: 12px;\n",
              "    }\n",
              "\n",
              "    .colab-df-convert {\n",
              "      background-color: #E8F0FE;\n",
              "      border: none;\n",
              "      border-radius: 50%;\n",
              "      cursor: pointer;\n",
              "      display: none;\n",
              "      fill: #1967D2;\n",
              "      height: 32px;\n",
              "      padding: 0 0 0 0;\n",
              "      width: 32px;\n",
              "    }\n",
              "\n",
              "    .colab-df-convert:hover {\n",
              "      background-color: #E2EBFA;\n",
              "      box-shadow: 0px 1px 2px rgba(60, 64, 67, 0.3), 0px 1px 3px 1px rgba(60, 64, 67, 0.15);\n",
              "      fill: #174EA6;\n",
              "    }\n",
              "\n",
              "    .colab-df-buttons div {\n",
              "      margin-bottom: 4px;\n",
              "    }\n",
              "\n",
              "    [theme=dark] .colab-df-convert {\n",
              "      background-color: #3B4455;\n",
              "      fill: #D2E3FC;\n",
              "    }\n",
              "\n",
              "    [theme=dark] .colab-df-convert:hover {\n",
              "      background-color: #434B5C;\n",
              "      box-shadow: 0px 1px 3px 1px rgba(0, 0, 0, 0.15);\n",
              "      filter: drop-shadow(0px 1px 2px rgba(0, 0, 0, 0.3));\n",
              "      fill: #FFFFFF;\n",
              "    }\n",
              "  </style>\n",
              "\n",
              "    <script>\n",
              "      const buttonEl =\n",
              "        document.querySelector('#df-1792d2f0-1290-4283-b3dd-c498563d0e12 button.colab-df-convert');\n",
              "      buttonEl.style.display =\n",
              "        google.colab.kernel.accessAllowed ? 'block' : 'none';\n",
              "\n",
              "      async function convertToInteractive(key) {\n",
              "        const element = document.querySelector('#df-1792d2f0-1290-4283-b3dd-c498563d0e12');\n",
              "        const dataTable =\n",
              "          await google.colab.kernel.invokeFunction('convertToInteractive',\n",
              "                                                    [key], {});\n",
              "        if (!dataTable) return;\n",
              "\n",
              "        const docLinkHtml = 'Like what you see? Visit the ' +\n",
              "          '<a target=\"_blank\" href=https://colab.research.google.com/notebooks/data_table.ipynb>data table notebook</a>'\n",
              "          + ' to learn more about interactive tables.';\n",
              "        element.innerHTML = '';\n",
              "        dataTable['output_type'] = 'display_data';\n",
              "        await google.colab.output.renderOutput(dataTable, element);\n",
              "        const docLink = document.createElement('div');\n",
              "        docLink.innerHTML = docLinkHtml;\n",
              "        element.appendChild(docLink);\n",
              "      }\n",
              "    </script>\n",
              "  </div>\n",
              "\n",
              "\n",
              "<div id=\"df-e9719ab3-6c5c-459e-acd7-1e613e52679c\">\n",
              "  <button class=\"colab-df-quickchart\" onclick=\"quickchart('df-e9719ab3-6c5c-459e-acd7-1e613e52679c')\"\n",
              "            title=\"Suggest charts\"\n",
              "            style=\"display:none;\">\n",
              "\n",
              "<svg xmlns=\"http://www.w3.org/2000/svg\" height=\"24px\"viewBox=\"0 0 24 24\"\n",
              "     width=\"24px\">\n",
              "    <g>\n",
              "        <path d=\"M19 3H5c-1.1 0-2 .9-2 2v14c0 1.1.9 2 2 2h14c1.1 0 2-.9 2-2V5c0-1.1-.9-2-2-2zM9 17H7v-7h2v7zm4 0h-2V7h2v10zm4 0h-2v-4h2v4z\"/>\n",
              "    </g>\n",
              "</svg>\n",
              "  </button>\n",
              "\n",
              "<style>\n",
              "  .colab-df-quickchart {\n",
              "      --bg-color: #E8F0FE;\n",
              "      --fill-color: #1967D2;\n",
              "      --hover-bg-color: #E2EBFA;\n",
              "      --hover-fill-color: #174EA6;\n",
              "      --disabled-fill-color: #AAA;\n",
              "      --disabled-bg-color: #DDD;\n",
              "  }\n",
              "\n",
              "  [theme=dark] .colab-df-quickchart {\n",
              "      --bg-color: #3B4455;\n",
              "      --fill-color: #D2E3FC;\n",
              "      --hover-bg-color: #434B5C;\n",
              "      --hover-fill-color: #FFFFFF;\n",
              "      --disabled-bg-color: #3B4455;\n",
              "      --disabled-fill-color: #666;\n",
              "  }\n",
              "\n",
              "  .colab-df-quickchart {\n",
              "    background-color: var(--bg-color);\n",
              "    border: none;\n",
              "    border-radius: 50%;\n",
              "    cursor: pointer;\n",
              "    display: none;\n",
              "    fill: var(--fill-color);\n",
              "    height: 32px;\n",
              "    padding: 0;\n",
              "    width: 32px;\n",
              "  }\n",
              "\n",
              "  .colab-df-quickchart:hover {\n",
              "    background-color: var(--hover-bg-color);\n",
              "    box-shadow: 0 1px 2px rgba(60, 64, 67, 0.3), 0 1px 3px 1px rgba(60, 64, 67, 0.15);\n",
              "    fill: var(--button-hover-fill-color);\n",
              "  }\n",
              "\n",
              "  .colab-df-quickchart-complete:disabled,\n",
              "  .colab-df-quickchart-complete:disabled:hover {\n",
              "    background-color: var(--disabled-bg-color);\n",
              "    fill: var(--disabled-fill-color);\n",
              "    box-shadow: none;\n",
              "  }\n",
              "\n",
              "  .colab-df-spinner {\n",
              "    border: 2px solid var(--fill-color);\n",
              "    border-color: transparent;\n",
              "    border-bottom-color: var(--fill-color);\n",
              "    animation:\n",
              "      spin 1s steps(1) infinite;\n",
              "  }\n",
              "\n",
              "  @keyframes spin {\n",
              "    0% {\n",
              "      border-color: transparent;\n",
              "      border-bottom-color: var(--fill-color);\n",
              "      border-left-color: var(--fill-color);\n",
              "    }\n",
              "    20% {\n",
              "      border-color: transparent;\n",
              "      border-left-color: var(--fill-color);\n",
              "      border-top-color: var(--fill-color);\n",
              "    }\n",
              "    30% {\n",
              "      border-color: transparent;\n",
              "      border-left-color: var(--fill-color);\n",
              "      border-top-color: var(--fill-color);\n",
              "      border-right-color: var(--fill-color);\n",
              "    }\n",
              "    40% {\n",
              "      border-color: transparent;\n",
              "      border-right-color: var(--fill-color);\n",
              "      border-top-color: var(--fill-color);\n",
              "    }\n",
              "    60% {\n",
              "      border-color: transparent;\n",
              "      border-right-color: var(--fill-color);\n",
              "    }\n",
              "    80% {\n",
              "      border-color: transparent;\n",
              "      border-right-color: var(--fill-color);\n",
              "      border-bottom-color: var(--fill-color);\n",
              "    }\n",
              "    90% {\n",
              "      border-color: transparent;\n",
              "      border-bottom-color: var(--fill-color);\n",
              "    }\n",
              "  }\n",
              "</style>\n",
              "\n",
              "  <script>\n",
              "    async function quickchart(key) {\n",
              "      const quickchartButtonEl =\n",
              "        document.querySelector('#' + key + ' button');\n",
              "      quickchartButtonEl.disabled = true;  // To prevent multiple clicks.\n",
              "      quickchartButtonEl.classList.add('colab-df-spinner');\n",
              "      try {\n",
              "        const charts = await google.colab.kernel.invokeFunction(\n",
              "            'suggestCharts', [key], {});\n",
              "      } catch (error) {\n",
              "        console.error('Error during call to suggestCharts:', error);\n",
              "      }\n",
              "      quickchartButtonEl.classList.remove('colab-df-spinner');\n",
              "      quickchartButtonEl.classList.add('colab-df-quickchart-complete');\n",
              "    }\n",
              "    (() => {\n",
              "      let quickchartButtonEl =\n",
              "        document.querySelector('#df-e9719ab3-6c5c-459e-acd7-1e613e52679c button');\n",
              "      quickchartButtonEl.style.display =\n",
              "        google.colab.kernel.accessAllowed ? 'block' : 'none';\n",
              "    })();\n",
              "  </script>\n",
              "</div>\n",
              "\n",
              "    </div>\n",
              "  </div>\n"
            ],
            "application/vnd.google.colaboratory.intrinsic+json": {
              "type": "dataframe",
              "variable_name": "df_comments",
              "summary": "{\n  \"name\": \"df_comments\",\n  \"rows\": 5184,\n  \"fields\": [\n    {\n      \"column\": \"Label\",\n      \"properties\": {\n        \"dtype\": \"category\",\n        \"num_unique_values\": 8,\n        \"samples\": [\n          \"Environmental Benefit\",\n          \"Against-EV\",\n          \"Environmental Concern\"\n        ],\n        \"semantic_type\": \"\",\n        \"description\": \"\"\n      }\n    },\n    {\n      \"column\": \"Description\",\n      \"properties\": {\n        \"dtype\": \"string\",\n        \"num_unique_values\": 3812,\n        \"samples\": [\n          \"A Chinese electric vehicle brand that's rarely spotted in the U.S. is quickly catching up to Tesla's dominance of the global EV market.  BYD, which started...\",\n          \"Nanotechnology\",\n          \"'Among the worst in OECD': Australia's addiction to cheap, dirty petrol\"\n        ],\n        \"semantic_type\": \"\",\n        \"description\": \"\"\n      }\n    },\n    {\n      \"column\": \"Cleaned_Description\",\n      \"properties\": {\n        \"dtype\": \"string\",\n        \"num_unique_values\": 3797,\n        \"samples\": [\n          \"carmaker report booming uk sale\",\n          \"president joe biden issued order begin phasing gaspowered government fleet replacing federal government fleet\",\n          \"removed\"\n        ],\n        \"semantic_type\": \"\",\n        \"description\": \"\"\n      }\n    },\n    {\n      \"column\": \"Article_Length\",\n      \"properties\": {\n        \"dtype\": \"number\",\n        \"std\": 30,\n        \"min\": 0,\n        \"max\": 473,\n        \"num_unique_values\": 156,\n        \"samples\": [\n          131,\n          79,\n          70\n        ],\n        \"semantic_type\": \"\",\n        \"description\": \"\"\n      }\n    }\n  ]\n}"
            }
          },
          "metadata": {},
          "execution_count": 1
        }
      ]
    },
    {
      "cell_type": "code",
      "source": [
        "df_comments = df_comments.dropna(subset=['Cleaned_Description'])\n",
        "\n",
        "# Vectorize the cleaned descriptions using TF-IDF\n",
        "vectorizer = TfidfVectorizer( stop_words='english',\n",
        "                              max_features=100,\n",
        "                              min_df=2, max_df=0.7)\n",
        "X_tfidf = vectorizer.fit_transform(df_comments['Cleaned_Description'])\n",
        "X_tfidf.shape"
      ],
      "metadata": {
        "colab": {
          "base_uri": "https://localhost:8080/"
        },
        "id": "e4BB32GSsFY6",
        "outputId": "54472717-5e1e-43b3-fc27-1d99659d6b96"
      },
      "execution_count": 2,
      "outputs": [
        {
          "output_type": "execute_result",
          "data": {
            "text/plain": [
              "(5170, 100)"
            ]
          },
          "metadata": {},
          "execution_count": 2
        }
      ]
    },
    {
      "cell_type": "code",
      "source": [
        "tfidf_df = pd.DataFrame(X_tfidf.toarray(), columns=vectorizer.get_feature_names_out())\n",
        "tfidf_df = tfidf_df.dropna()\n",
        "tfidf_df.shape"
      ],
      "metadata": {
        "colab": {
          "base_uri": "https://localhost:8080/"
        },
        "id": "IMuu_Ls3ta0Y",
        "outputId": "409c5f6e-19ce-443a-de6e-255eb59d2f57"
      },
      "execution_count": 5,
      "outputs": [
        {
          "output_type": "execute_result",
          "data": {
            "text/plain": [
              "(5170, 100)"
            ]
          },
          "metadata": {},
          "execution_count": 5
        }
      ]
    },
    {
      "cell_type": "code",
      "source": [
        "tfidf_df.to_csv('cleaned_reviews.csv', index=False)"
      ],
      "metadata": {
        "id": "I-7yCQZIsNYu"
      },
      "execution_count": 7,
      "outputs": []
    },
    {
      "cell_type": "code",
      "source": [
        "install.packages(\"coop\")"
      ],
      "metadata": {
        "colab": {
          "base_uri": "https://localhost:8080/"
        },
        "id": "UI3kBIiKsVrs",
        "outputId": "b5f324f8-a4be-40e0-9fee-f3856786e1e3"
      },
      "execution_count": null,
      "outputs": [
        {
          "output_type": "stream",
          "name": "stderr",
          "text": [
            "Installing package into ‘/usr/local/lib/R/site-library’\n",
            "(as ‘lib’ is unspecified)\n",
            "\n"
          ]
        }
      ]
    },
    {
      "cell_type": "code",
      "source": [
        "install.packages(\"dendextend\")"
      ],
      "metadata": {
        "colab": {
          "base_uri": "https://localhost:8080/"
        },
        "id": "uo1OLcWysvC0",
        "outputId": "eb7f9052-f80e-41c6-bb0e-f32d2fad55a8"
      },
      "execution_count": null,
      "outputs": [
        {
          "output_type": "stream",
          "name": "stderr",
          "text": [
            "Installing package into ‘/usr/local/lib/R/site-library’\n",
            "(as ‘lib’ is unspecified)\n",
            "\n",
            "also installing the dependencies ‘gridExtra’, ‘viridis’\n",
            "\n",
            "\n"
          ]
        }
      ]
    },
    {
      "cell_type": "code",
      "source": [
        "head(data)"
      ],
      "metadata": {
        "id": "H-ZMFP2Cs828",
        "outputId": "912d96fc-dadc-4325-af08-1a228409938a",
        "colab": {
          "base_uri": "https://localhost:8080/",
          "height": 286
        }
      },
      "execution_count": 2,
      "outputs": [
        {
          "output_type": "display_data",
          "data": {
            "text/html": [
              "<table class=\"dataframe\">\n",
              "<caption>A data.frame: 6 × 100</caption>\n",
              "<thead>\n",
              "\t<tr><th></th><th scope=col>actually</th><th scope=col>automaker</th><th scope=col>better</th><th scope=col>big</th><th scope=col>billion</th><th scope=col>build</th><th scope=col>business</th><th scope=col>buy</th><th scope=col>carbon</th><th scope=col>change</th><th scope=col>⋯</th><th scope=col>use</th><th scope=col>used</th><th scope=col>using</th><th scope=col>want</th><th scope=col>way</th><th scope=col>week</th><th scope=col>weekly</th><th scope=col>welcome</th><th scope=col>work</th><th scope=col>world</th></tr>\n",
              "\t<tr><th></th><th scope=col>&lt;dbl&gt;</th><th scope=col>&lt;dbl&gt;</th><th scope=col>&lt;dbl&gt;</th><th scope=col>&lt;dbl&gt;</th><th scope=col>&lt;dbl&gt;</th><th scope=col>&lt;dbl&gt;</th><th scope=col>&lt;dbl&gt;</th><th scope=col>&lt;dbl&gt;</th><th scope=col>&lt;dbl&gt;</th><th scope=col>&lt;dbl&gt;</th><th scope=col>⋯</th><th scope=col>&lt;dbl&gt;</th><th scope=col>&lt;dbl&gt;</th><th scope=col>&lt;dbl&gt;</th><th scope=col>&lt;dbl&gt;</th><th scope=col>&lt;dbl&gt;</th><th scope=col>&lt;dbl&gt;</th><th scope=col>&lt;dbl&gt;</th><th scope=col>&lt;dbl&gt;</th><th scope=col>&lt;dbl&gt;</th><th scope=col>&lt;dbl&gt;</th></tr>\n",
              "</thead>\n",
              "<tbody>\n",
              "\t<tr><th scope=row>1</th><td>0</td><td>0</td><td>0</td><td>0</td><td>0</td><td>0</td><td>0</td><td>0</td><td>0</td><td>0</td><td>⋯</td><td>0</td><td>0.0000000</td><td>0.0000000</td><td>0</td><td>0.0000000</td><td>0</td><td>0</td><td>0</td><td>0</td><td>0</td></tr>\n",
              "\t<tr><th scope=row>2</th><td>0</td><td>0</td><td>0</td><td>0</td><td>0</td><td>0</td><td>0</td><td>0</td><td>0</td><td>0</td><td>⋯</td><td>0</td><td>0.0000000</td><td>0.0000000</td><td>0</td><td>0.0000000</td><td>0</td><td>0</td><td>0</td><td>0</td><td>0</td></tr>\n",
              "\t<tr><th scope=row>3</th><td>0</td><td>0</td><td>0</td><td>0</td><td>0</td><td>0</td><td>0</td><td>0</td><td>0</td><td>0</td><td>⋯</td><td>0</td><td>0.0000000</td><td>0.7085128</td><td>0</td><td>0.0000000</td><td>0</td><td>0</td><td>0</td><td>0</td><td>0</td></tr>\n",
              "\t<tr><th scope=row>4</th><td>0</td><td>0</td><td>0</td><td>0</td><td>0</td><td>0</td><td>0</td><td>0</td><td>0</td><td>0</td><td>⋯</td><td>0</td><td>0.5083312</td><td>0.0000000</td><td>0</td><td>0.0000000</td><td>0</td><td>0</td><td>0</td><td>0</td><td>0</td></tr>\n",
              "\t<tr><th scope=row>5</th><td>0</td><td>0</td><td>0</td><td>0</td><td>0</td><td>0</td><td>0</td><td>0</td><td>0</td><td>0</td><td>⋯</td><td>0</td><td>0.0000000</td><td>0.0000000</td><td>0</td><td>0.6654318</td><td>0</td><td>0</td><td>0</td><td>0</td><td>0</td></tr>\n",
              "\t<tr><th scope=row>6</th><td>0</td><td>0</td><td>0</td><td>0</td><td>0</td><td>0</td><td>0</td><td>0</td><td>0</td><td>0</td><td>⋯</td><td>0</td><td>0.0000000</td><td>0.0000000</td><td>0</td><td>0.0000000</td><td>0</td><td>0</td><td>0</td><td>0</td><td>0</td></tr>\n",
              "</tbody>\n",
              "</table>\n"
            ],
            "text/markdown": "\nA data.frame: 6 × 100\n\n| <!--/--> | actually &lt;dbl&gt; | automaker &lt;dbl&gt; | better &lt;dbl&gt; | big &lt;dbl&gt; | billion &lt;dbl&gt; | build &lt;dbl&gt; | business &lt;dbl&gt; | buy &lt;dbl&gt; | carbon &lt;dbl&gt; | change &lt;dbl&gt; | ⋯ ⋯ | use &lt;dbl&gt; | used &lt;dbl&gt; | using &lt;dbl&gt; | want &lt;dbl&gt; | way &lt;dbl&gt; | week &lt;dbl&gt; | weekly &lt;dbl&gt; | welcome &lt;dbl&gt; | work &lt;dbl&gt; | world &lt;dbl&gt; |\n|---|---|---|---|---|---|---|---|---|---|---|---|---|---|---|---|---|---|---|---|---|---|\n| 1 | 0 | 0 | 0 | 0 | 0 | 0 | 0 | 0 | 0 | 0 | ⋯ | 0 | 0.0000000 | 0.0000000 | 0 | 0.0000000 | 0 | 0 | 0 | 0 | 0 |\n| 2 | 0 | 0 | 0 | 0 | 0 | 0 | 0 | 0 | 0 | 0 | ⋯ | 0 | 0.0000000 | 0.0000000 | 0 | 0.0000000 | 0 | 0 | 0 | 0 | 0 |\n| 3 | 0 | 0 | 0 | 0 | 0 | 0 | 0 | 0 | 0 | 0 | ⋯ | 0 | 0.0000000 | 0.7085128 | 0 | 0.0000000 | 0 | 0 | 0 | 0 | 0 |\n| 4 | 0 | 0 | 0 | 0 | 0 | 0 | 0 | 0 | 0 | 0 | ⋯ | 0 | 0.5083312 | 0.0000000 | 0 | 0.0000000 | 0 | 0 | 0 | 0 | 0 |\n| 5 | 0 | 0 | 0 | 0 | 0 | 0 | 0 | 0 | 0 | 0 | ⋯ | 0 | 0.0000000 | 0.0000000 | 0 | 0.6654318 | 0 | 0 | 0 | 0 | 0 |\n| 6 | 0 | 0 | 0 | 0 | 0 | 0 | 0 | 0 | 0 | 0 | ⋯ | 0 | 0.0000000 | 0.0000000 | 0 | 0.0000000 | 0 | 0 | 0 | 0 | 0 |\n\n",
            "text/latex": "A data.frame: 6 × 100\n\\begin{tabular}{r|lllllllllllllllllllll}\n  & actually & automaker & better & big & billion & build & business & buy & carbon & change & ⋯ & use & used & using & want & way & week & weekly & welcome & work & world\\\\\n  & <dbl> & <dbl> & <dbl> & <dbl> & <dbl> & <dbl> & <dbl> & <dbl> & <dbl> & <dbl> & ⋯ & <dbl> & <dbl> & <dbl> & <dbl> & <dbl> & <dbl> & <dbl> & <dbl> & <dbl> & <dbl>\\\\\n\\hline\n\t1 & 0 & 0 & 0 & 0 & 0 & 0 & 0 & 0 & 0 & 0 & ⋯ & 0 & 0.0000000 & 0.0000000 & 0 & 0.0000000 & 0 & 0 & 0 & 0 & 0\\\\\n\t2 & 0 & 0 & 0 & 0 & 0 & 0 & 0 & 0 & 0 & 0 & ⋯ & 0 & 0.0000000 & 0.0000000 & 0 & 0.0000000 & 0 & 0 & 0 & 0 & 0\\\\\n\t3 & 0 & 0 & 0 & 0 & 0 & 0 & 0 & 0 & 0 & 0 & ⋯ & 0 & 0.0000000 & 0.7085128 & 0 & 0.0000000 & 0 & 0 & 0 & 0 & 0\\\\\n\t4 & 0 & 0 & 0 & 0 & 0 & 0 & 0 & 0 & 0 & 0 & ⋯ & 0 & 0.5083312 & 0.0000000 & 0 & 0.0000000 & 0 & 0 & 0 & 0 & 0\\\\\n\t5 & 0 & 0 & 0 & 0 & 0 & 0 & 0 & 0 & 0 & 0 & ⋯ & 0 & 0.0000000 & 0.0000000 & 0 & 0.6654318 & 0 & 0 & 0 & 0 & 0\\\\\n\t6 & 0 & 0 & 0 & 0 & 0 & 0 & 0 & 0 & 0 & 0 & ⋯ & 0 & 0.0000000 & 0.0000000 & 0 & 0.0000000 & 0 & 0 & 0 & 0 & 0\\\\\n\\end{tabular}\n",
            "text/plain": [
              "  actually automaker better big billion build business buy carbon change ⋯ use\n",
              "1 0        0         0      0   0       0     0        0   0      0      ⋯ 0  \n",
              "2 0        0         0      0   0       0     0        0   0      0      ⋯ 0  \n",
              "3 0        0         0      0   0       0     0        0   0      0      ⋯ 0  \n",
              "4 0        0         0      0   0       0     0        0   0      0      ⋯ 0  \n",
              "5 0        0         0      0   0       0     0        0   0      0      ⋯ 0  \n",
              "6 0        0         0      0   0       0     0        0   0      0      ⋯ 0  \n",
              "  used      using     want way       week weekly welcome work world\n",
              "1 0.0000000 0.0000000 0    0.0000000 0    0      0       0    0    \n",
              "2 0.0000000 0.0000000 0    0.0000000 0    0      0       0    0    \n",
              "3 0.0000000 0.7085128 0    0.0000000 0    0      0       0    0    \n",
              "4 0.5083312 0.0000000 0    0.0000000 0    0      0       0    0    \n",
              "5 0.0000000 0.0000000 0    0.6654318 0    0      0       0    0    \n",
              "6 0.0000000 0.0000000 0    0.0000000 0    0      0       0    0    "
            ]
          },
          "metadata": {}
        }
      ]
    },
    {
      "cell_type": "code",
      "source": [
        "anyNA(sample_data)        # Should be FALSE\n",
        "any(is.infinite(as.matrix(sample_data)))  # Should also be FALSE"
      ],
      "metadata": {
        "colab": {
          "base_uri": "https://localhost:8080/",
          "height": 52
        },
        "id": "pUIoI7jou6lY",
        "outputId": "6486afd6-cc5a-4e56-f5d6-7b9e20f71adb"
      },
      "execution_count": 3,
      "outputs": [
        {
          "output_type": "display_data",
          "data": {
            "text/html": [
              "FALSE"
            ],
            "text/markdown": "FALSE",
            "text/latex": "FALSE",
            "text/plain": [
              "[1] FALSE"
            ]
          },
          "metadata": {}
        },
        {
          "output_type": "display_data",
          "data": {
            "text/html": [
              "FALSE"
            ],
            "text/markdown": "FALSE",
            "text/latex": "FALSE",
            "text/plain": [
              "[1] FALSE"
            ]
          },
          "metadata": {}
        }
      ]
    },
    {
      "cell_type": "code",
      "source": [
        "library(coop)\n",
        "\n",
        "# Cosine similarity\n",
        "cos_sim <- cosine(t(sample_data))\n",
        "\n",
        "# Convert to cosine distance matrix\n",
        "cos_dist <- as.dist(1 - cos_sim)\n",
        "\n",
        "# Check again\n",
        "anyNA(cos_dist)\n",
        "any(is.infinite(cos_dist))"
      ],
      "metadata": {
        "colab": {
          "base_uri": "https://localhost:8080/",
          "height": 52
        },
        "id": "9CIJpx-qvmvd",
        "outputId": "1c3e7141-71f3-463c-fc1d-7a769639d24c"
      },
      "execution_count": 10,
      "outputs": [
        {
          "output_type": "display_data",
          "data": {
            "text/html": [
              "TRUE"
            ],
            "text/markdown": "TRUE",
            "text/latex": "TRUE",
            "text/plain": [
              "[1] TRUE"
            ]
          },
          "metadata": {}
        },
        {
          "output_type": "display_data",
          "data": {
            "text/html": [
              "FALSE"
            ],
            "text/markdown": "FALSE",
            "text/latex": "FALSE",
            "text/plain": [
              "[1] FALSE"
            ]
          },
          "metadata": {}
        }
      ]
    },
    {
      "cell_type": "code",
      "source": [
        "library(coop)\n",
        "library(dendextend)\n",
        "\n",
        "# Load data\n",
        "review_matrix <- read.csv(\"/content/cleaned_reviews.csv\")\n",
        "\n",
        "# Sample 100 reviews for clear visualization\n",
        "set.seed(42)\n",
        "sample_indices <- sample(1:nrow(review_matrix), 100)\n",
        "review_sample <- review_matrix[sample_indices, ]\n",
        "\n",
        "# Ensure numeric matrix and remove zero rows/columns\n",
        "review_sample <- as.data.frame(lapply(review_sample, as.numeric))\n",
        "review_sample <- review_sample[, colSums(review_sample) != 0]\n",
        "review_sample <- review_sample[rowSums(review_sample) != 0, ]\n",
        "review_sample_scaled <- scale(review_sample)\n",
        "\n",
        "# Cosine similarity and distance matrix\n",
        "cosine_similarity <- cosine(t(review_sample_scaled))\n",
        "cosine_distance <- as.dist(1 - cosine_similarity)\n",
        "\n",
        "# Hierarchical clustering using Ward's method\n",
        "hclust_model <- hclust(cosine_distance, method = \"ward.D2\")\n",
        "dendrogram <- as.dendrogram(hclust_model)\n",
        "\n",
        "# Visualize with k clusters\n",
        "k_clusters <- 8\n",
        "colored_dend <- color_branches(dendrogram, k = k_clusters)\n",
        "\n",
        "# Set plot margins\n",
        "par(mar = c(6.5, 4, 4, 2) + 0.1)\n",
        "\n",
        "# Plot dendrogram\n",
        "plot(colored_dend,\n",
        "     main = paste(\"Hierarchical Clustering (k =\", k_clusters, \")\"),\n",
        "     ylab = \"Cosine Distance\",\n",
        "     xlab = \"\",\n",
        "     sub = \"\",\n",
        "     axes = FALSE,\n",
        "     leaflab = \"none\")\n",
        "\n",
        "# Adjust label appearance\n",
        "options(repr.plot.width = 16, repr.plot.height = 10)\n",
        "leaf_labels <- labels(colored_dend)\n",
        "label_pos <- 1:length(leaf_labels)\n",
        "\n",
        "text(x = label_pos,\n",
        "     y = rep(par(\"usr\")[3] - 0.05, length(leaf_labels)),\n",
        "     labels = leaf_labels,\n",
        "     srt = 90,\n",
        "     adj = 1,\n",
        "     xpd = TRUE,\n",
        "     cex = 0.6)\n",
        "\n",
        "axis(2)\n",
        "box()\n",
        "\n",
        "# Draw cut line and cluster boxes\n",
        "cut_height <- hclust_model$height[length(hclust_model$height) - (k_clusters - 1)]\n",
        "abline(h = cut_height, col = \"blue\", lty = 2, lwd = 2)\n",
        "rect.hclust(hclust_model, k = k_clusters, border = \"red\")\n"
      ],
      "metadata": {
        "id": "WhR-fLSyjAC4",
        "colab": {
          "base_uri": "https://localhost:8080/",
          "height": 634
        },
        "outputId": "2362914f-4743-49d5-8bff-7b1d209af397"
      },
      "execution_count": 18,
      "outputs": [
        {
          "output_type": "display_data",
          "data": {
            "text/html": [
              "<style>\n",
              ".list-inline {list-style: none; margin:0; padding: 0}\n",
              ".list-inline>li {display: inline-block}\n",
              ".list-inline>li:not(:last-child)::after {content: \"\\00b7\"; padding: 0 .5ex}\n",
              "</style>\n",
              "<ol class=list-inline><li>79</li><li>91</li></ol>\n"
            ],
            "text/markdown": "1. 79\n2. 91\n\n\n",
            "text/latex": "\\begin{enumerate*}\n\\item 79\n\\item 91\n\\end{enumerate*}\n",
            "text/plain": [
              "[1] 79 91"
            ]
          },
          "metadata": {}
        },
        {
          "output_type": "display_data",
          "data": {
            "text/plain": [
              "Plot with title “Hierarchical Clustering (Visual Cut: k = 8 )”"
            ],
            "image/png": "[encoded data removed]"
          },
          "metadata": {
            "image/png": {
              "width": 960,
              "height": 600
            }
          }
        }
      ]
    },
    {
      "cell_type": "code",
      "source": [],
      "metadata": {
        "id": "OBqWzqzKcEcV"
      },
      "execution_count": null,
      "outputs": []
    }
  ]
}